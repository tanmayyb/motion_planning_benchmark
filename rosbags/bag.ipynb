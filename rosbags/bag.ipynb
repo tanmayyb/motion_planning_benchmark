{
 "cells": [
  {
   "cell_type": "code",
   "execution_count": null,
   "metadata": {},
   "outputs": [],
   "source": [
    "ROS_BAG_PATH = 'rosbag2_2024_04_24-23_08_22'"
   ]
  },
  {
   "cell_type": "code",
   "execution_count": null,
   "metadata": {},
   "outputs": [],
   "source": [
    "import os\n",
    "os.chdir(os.path.join(os.getcwd(),ROS_BAG_PATH))"
   ]
  },
  {
   "cell_type": "markdown",
   "metadata": {},
   "source": [
    "## Data Parsing"
   ]
  },
  {
   "cell_type": "code",
   "execution_count": null,
   "metadata": {},
   "outputs": [],
   "source": [
    "# - https://docs.ros.org/en/foxy/Tutorials/Advanced/Topic-Statistics-Tutorial/Topic-Statistics-Tutorial.html\n",
    "# - https://docs.ros2.org/foxy/api/std_msgs/index-msg.html\n",
    "from utils.parser import DataParser\n",
    "\n",
    "parser = DataParser()\n",
    "raw_data = parser.run()"
   ]
  },
  {
   "cell_type": "markdown",
   "metadata": {},
   "source": [
    "## Analyzer"
   ]
  },
  {
   "cell_type": "code",
   "execution_count": null,
   "metadata": {},
   "outputs": [],
   "source": [
    "from utils.analyzer import Analyzer\n",
    "\n",
    "analyzer = Analyzer()\n",
    "analyzer.analyze(raw_data)"
   ]
  },
  {
   "cell_type": "markdown",
   "metadata": {},
   "source": [
    "## Plotting"
   ]
  },
  {
   "cell_type": "code",
   "execution_count": null,
   "metadata": {},
   "outputs": [],
   "source": [
    "from utils.plotter import make_df_fig, make_series_fig, Plotter\n",
    "\n",
    "plotter = Plotter(raw_data)"
   ]
  },
  {
   "cell_type": "code",
   "execution_count": null,
   "metadata": {},
   "outputs": [],
   "source": [
    "PRINT_HTML \t= True\n",
    "PRINT_IMG\t= True\n",
    "\n",
    "\n",
    "plotter.plot_joint_position_and_motion_sequence_states(print_html=PRINT_HTML, print_img=PRINT_IMG)\n",
    "\n",
    "plotter.create_2d_subplots_of_windowed_data(\n",
    "\t\t\t\t\t\t\t\t\t\t\t\tanalyzer.joint_position_windows,\n",
    "\t\t\t\t\t\t\t\t\t\t\t\tsubplot_titles_prefix='motion sequence ',\n",
    "\t\t\t\t\t\t\t\t\t\t\t\ttitle='Joint Positions',\n",
    "                                                x_title='Time [s]',\n",
    "                                                y_title='Position [rad]',    \n",
    "                                                print_html=PRINT_HTML, \n",
    "                                                print_img=PRINT_IMG,\n",
    "                                            )\n",
    "\n",
    "plotter.create_2d_subplots_of_windowed_data(\n",
    "\t\t\t\t\t\t\t\t\t\t\t\tanalyzer.joint_velocity_windows,\n",
    "\t\t\t\t\t\t\t\t\t\t\t\tsubplot_titles_prefix='motion sequence ',\n",
    "\t\t\t\t\t\t\t\t\t\t\t\ttitle='Joint Velocities',\n",
    "                                                x_title='Time [s]',\n",
    "                                                y_title='Velocity [rad/s]',  \n",
    "                                                print_html=PRINT_HTML, \n",
    "                                                print_img=PRINT_IMG,  \n",
    "                                            )\n",
    "\n",
    "\n",
    "plotter.create_3d_suplots_of_windowed_data(    \n",
    "\t\t\t\t\t\t\t\t\t\t\t\tanalyzer.ee_fk_positions,\n",
    "\t\t\t\t\t\t\t\t\t\t\t\tsubplot_titles_prefix='motion sequence ',\n",
    "\t\t\t\t\t\t\t\t\t\t\t\ttitle='End Effector Positions (Forward Kinematics)',\n",
    "\t\t\t\t\t\t\t\t\t\t\t\tx_title='Time [s]',\n",
    "\t\t\t\t\t\t\t\t\t\t\t\ty_title='Position [m]',    \n",
    "                                                print_html=PRINT_HTML, \n",
    "                                                print_img=PRINT_IMG,\n",
    "\t\t\t\t\t\t\t\t\t\t)\n",
    "\n",
    "# average joint velocity\n",
    "make_df_fig(\n",
    "\t\t\t\tanalyzer.avg_joint_velocities, \n",
    "\t\t\t\treturn_trace_list=False, \n",
    "\t\t\t\tshow_fig=True, \n",
    "\t\t\t\tname_prefix='joint: ', \n",
    "\t\t\t\ttitle='Avg Joint Speed',\n",
    "\t\t\t\tx_title='motion sequence id [n]',\n",
    "\t\t\t\ty_title='avg joint speed [rad/s]',\t\n",
    "\t\t\t\tprint_html=PRINT_HTML, \n",
    "\t\t\t\tprint_img=PRINT_IMG,\n",
    "\t\t\t)"
   ]
  }
 ],
 "metadata": {
  "kernelspec": {
   "display_name": "Python 3",
   "language": "python",
   "name": "python3"
  },
  "language_info": {
   "codemirror_mode": {
    "name": "ipython",
    "version": 3
   },
   "file_extension": ".py",
   "mimetype": "text/x-python",
   "name": "python",
   "nbconvert_exporter": "python",
   "pygments_lexer": "ipython3",
   "version": "3.10.12"
  }
 },
 "nbformat": 4,
 "nbformat_minor": 2
}
